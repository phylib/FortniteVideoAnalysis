{
 "cells": [
  {
   "cell_type": "code",
   "execution_count": 1,
   "metadata": {},
   "outputs": [],
   "source": [
    "import pandas as pd"
   ]
  },
  {
   "cell_type": "code",
   "execution_count": 2,
   "metadata": {},
   "outputs": [],
   "source": [
    "data = pd.read_csv(\"match-overview-post-processed.csv\")"
   ]
  },
  {
   "cell_type": "code",
   "execution_count": 3,
   "metadata": {},
   "outputs": [],
   "source": [
    "def get_round_name(video, roundId):\n",
    "    prefix = video.split(\"/\")[-1].replace(\".mp4\", \"\")\n",
    "    return \"round-\" + prefix + \"_\" + str(roundId) + \".csv\"\n",
    "\n",
    "#data.apply(lambda x : get_round_name(x[\"video\"], x[\"roundId\"]))\n",
    "data[\"tracefile\"] = data.apply(lambda x : get_round_name(x[\"video\"], x[\"roundId\"]), axis=1)\n",
    "\n",
    "data.to_csv(\"match-overview-processed.csv\", index=False)"
   ]
  }
 ],
 "metadata": {
  "kernelspec": {
   "display_name": "Python 3",
   "language": "python",
   "name": "python3"
  },
  "language_info": {
   "codemirror_mode": {
    "name": "ipython",
    "version": 2
   },
   "file_extension": ".py",
   "mimetype": "text/x-python",
   "name": "python",
   "nbconvert_exporter": "python",
   "pygments_lexer": "ipython2",
   "version": "2.7.17"
  }
 },
 "nbformat": 4,
 "nbformat_minor": 2
}
