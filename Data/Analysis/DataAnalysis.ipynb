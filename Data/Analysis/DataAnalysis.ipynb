{
 "cells": [
  {
   "cell_type": "markdown",
   "metadata": {},
   "source": [
    "# Calculate Correlations from paper\n",
    "\n",
    "In this notebook all correlations from the paper are calculated and it is explained where the data comes from."
   ]
  },
  {
   "cell_type": "code",
   "execution_count": 1,
   "metadata": {},
   "outputs": [],
   "source": [
    "# Import dependencies\n",
    "import pandas as pd\n",
    "import numpy as np\n",
    "from scipy.stats import spearmanr"
   ]
  },
  {
   "cell_type": "markdown",
   "metadata": {},
   "source": [
    "The file `userstudy_including_survey.csv` contains data of the games played during the user study. In addition to that the survey data is already joined to the data extracted from the vidoes.\n",
    "\n",
    "Furthermore, the file also contains information wheter the player landed in a hotspot or not. This was analyzed in a separate analysis step.\n",
    "\n",
    "Because most correlations of the paper are calculated for beginner Fortnite players, we first load the data from the user study."
   ]
  },
  {
   "cell_type": "code",
   "execution_count": 2,
   "metadata": {},
   "outputs": [],
   "source": [
    "# Load the data\n",
    "df = pd.read_csv(\"userstudy_including_survey.csv\")"
   ]
  },
  {
   "cell_type": "markdown",
   "metadata": {},
   "source": [
    "Correlations in the paper are calculated using Spearman's rank correlation coefficient. The degree of freedom (DF) for the spearman coefficient is calculated by the sample size - 2."
   ]
  },
  {
   "cell_type": "code",
   "execution_count": 3,
   "metadata": {},
   "outputs": [
    {
     "name": "stdout",
     "output_type": "stream",
     "text": [
      "DF=85\n"
     ]
    }
   ],
   "source": [
    "DF = len(df) - 2\n",
    "print(\"DF=\" + str(DF))"
   ]
  },
  {
   "cell_type": "markdown",
   "metadata": {},
   "source": [
    "This means that for all correlations for beginner Fortnite player, the DF is 85.\n",
    "\n",
    "## Correlations for H1\n",
    "\n",
    "In the following, we calculate the correlations for **H1**, which is __Satisfaction and enjoyment are correlated and are influenced by the player's success in the game__"
   ]
  },
  {
   "cell_type": "code",
   "execution_count": 4,
   "metadata": {},
   "outputs": [
    {
     "data": {
      "text/plain": [
       "SpearmanrResult(correlation=0.46805091489043021, pvalue=masked_array(data = 6.273626362055868e-06,\n",
       "             mask = False,\n",
       "       fill_value = 1e+20)\n",
       ")"
      ]
     },
     "execution_count": 4,
     "metadata": {},
     "output_type": "execute_result"
    }
   ],
   "source": [
    "# Correlation between Satisfaction and Enjoyment\n",
    "spearmanr(df[\"Satisfaction\"], df[\"Enjoyment\"], nan_policy='omit')"
   ]
  },
  {
   "cell_type": "code",
   "execution_count": 5,
   "metadata": {},
   "outputs": [
    {
     "data": {
      "text/plain": [
       "SpearmanrResult(correlation=0.60555915641562119, pvalue=masked_array(data = 8.265164539283189e-10,\n",
       "             mask = False,\n",
       "       fill_value = 1e+20)\n",
       ")"
      ]
     },
     "execution_count": 5,
     "metadata": {},
     "output_type": "execute_result"
    }
   ],
   "source": [
    "# Correlation between Satisfaction and duration of the game\n",
    "spearmanr(df[\"Satisfaction\"], df[\"playtime_seconds\"], nan_policy='omit')"
   ]
  },
  {
   "cell_type": "code",
   "execution_count": 6,
   "metadata": {},
   "outputs": [
    {
     "data": {
      "text/plain": [
       "SpearmanrResult(correlation=-0.53157827050353201, pvalue=masked_array(data = 1.6523359611615222e-07,\n",
       "             mask = False,\n",
       "       fill_value = 1e+20)\n",
       ")"
      ]
     },
     "execution_count": 6,
     "metadata": {},
     "output_type": "execute_result"
    }
   ],
   "source": [
    "# Correlation between Satisfaction and place\n",
    "spearmanr(df[\"Satisfaction\"], df[\"place\"], nan_policy='omit')"
   ]
  },
  {
   "cell_type": "code",
   "execution_count": 7,
   "metadata": {},
   "outputs": [
    {
     "data": {
      "text/plain": [
       "SpearmanrResult(correlation=0.47855633519539365, pvalue=masked_array(data = 3.612002994521827e-06,\n",
       "             mask = False,\n",
       "       fill_value = 1e+20)\n",
       ")"
      ]
     },
     "execution_count": 7,
     "metadata": {},
     "output_type": "execute_result"
    }
   ],
   "source": [
    "# Correlation between Satisfaction and kills\n",
    "spearmanr(df[\"Satisfaction\"], df[\"kills\"], nan_policy='omit')"
   ]
  },
  {
   "cell_type": "markdown",
   "metadata": {},
   "source": [
    "## Correlations for H3b\n",
    "\n",
    "In the following, we calculate the correlations for **H3b**, which is __The enjoyment of Fortnite beginners is in-\n",
    "fluenced by the chosen landing spot__.\n",
    "\n",
    "Therefore, we analyzed if the movement traces of the individual games started in a landing, activity, or killing hot spot and added the results of this analysis as columns `hotspotlanding`, `activityhotspot` and `Killhotspotlanding`."
   ]
  },
  {
   "cell_type": "code",
   "execution_count": 8,
   "metadata": {},
   "outputs": [
    {
     "data": {
      "text/plain": [
       "SpearmanrResult(correlation=-0.27318429121962823, pvalue=masked_array(data = 0.01360312662632364,\n",
       "             mask = False,\n",
       "       fill_value = 1e+20)\n",
       ")"
      ]
     },
     "execution_count": 8,
     "metadata": {},
     "output_type": "execute_result"
    }
   ],
   "source": [
    "# Correlation between landing on a landing hot spot and enjoyment\n",
    "spearmanr(df[\"hotspotlanding\"], df[\"Enjoyment\"], nan_policy='omit')"
   ]
  },
  {
   "cell_type": "code",
   "execution_count": 9,
   "metadata": {},
   "outputs": [
    {
     "data": {
      "text/plain": [
       "SpearmanrResult(correlation=0.31213578074013532, pvalue=masked_array(data = 0.004306220020430569,\n",
       "             mask = False,\n",
       "       fill_value = 1e+20)\n",
       ")"
      ]
     },
     "execution_count": 9,
     "metadata": {},
     "output_type": "execute_result"
    }
   ],
   "source": [
    "# Correlation between landing in activity hot spot and the place\n",
    "spearmanr(df[\"activityhotspot\"], df[\"place\"], nan_policy='omit')"
   ]
  },
  {
   "cell_type": "code",
   "execution_count": 10,
   "metadata": {},
   "outputs": [
    {
     "data": {
      "text/plain": [
       "SpearmanrResult(correlation=-0.31208651621525746, pvalue=masked_array(data = 0.004312657697834659,\n",
       "             mask = False,\n",
       "       fill_value = 1e+20)\n",
       ")"
      ]
     },
     "execution_count": 10,
     "metadata": {},
     "output_type": "execute_result"
    }
   ],
   "source": [
    "# Correlation between landing in activity hot spot and the playtime\n",
    "spearmanr(df[\"activityhotspot\"], df[\"playtime_seconds\"], nan_policy='omit')"
   ]
  },
  {
   "cell_type": "markdown",
   "metadata": {},
   "source": [
    "# Corelations for H4\n",
    "\n",
    "In the following, we calculate the correlations for **H4**, which is __The amount of time playing other games influences the success when starting to play Fortnite__."
   ]
  },
  {
   "cell_type": "code",
   "execution_count": 11,
   "metadata": {},
   "outputs": [
    {
     "data": {
      "text/plain": [
       "SpearmanrResult(correlation=0.36583945924869671, pvalue=masked_array(data = 0.0007250312934609963,\n",
       "             mask = False,\n",
       "       fill_value = 1e+20)\n",
       ")"
      ]
     },
     "execution_count": 11,
     "metadata": {},
     "output_type": "execute_result"
    }
   ],
   "source": [
    "# Correlation between landing in a landing hot spot and duration of watched fortnite streams\n",
    "spearmanr(df[\"hotspotlanding\"], df[\"watchedHours\"], nan_policy='omit')"
   ]
  },
  {
   "cell_type": "markdown",
   "metadata": {},
   "source": [
    "Furthermore, we argue for H4 that achieving a good place and the number of kills are correlated. For analyzing this statement, we need the data of all valid games, which can be found in the file `all_valid_games.csv`"
   ]
  },
  {
   "cell_type": "code",
   "execution_count": 12,
   "metadata": {},
   "outputs": [
    {
     "data": {
      "text/plain": [
       "SpearmanrResult(correlation=-0.63313178622272914, pvalue=2.716163141849388e-92)"
      ]
     },
     "execution_count": 12,
     "metadata": {},
     "output_type": "execute_result"
    }
   ],
   "source": [
    "df_all = pd.read_csv(\"all_valid_games.csv\")\n",
    "spearmanr(df_all[\"kills\"], df_all[\"place\"], nan_policy='omit')"
   ]
  },
  {
   "cell_type": "code",
   "execution_count": 13,
   "metadata": {},
   "outputs": [
    {
     "name": "stdout",
     "output_type": "stream",
     "text": [
      "New DF: 811\n"
     ]
    }
   ],
   "source": [
    "# The DF for this values correlation is now of course changed.\n",
    "print(\"New DF: \" + str(len(df_all) - 2))"
   ]
  }
 ],
 "metadata": {
  "kernelspec": {
   "display_name": "Python 3",
   "language": "python",
   "name": "python3"
  },
  "language_info": {
   "codemirror_mode": {
    "name": "ipython",
    "version": 3
   },
   "file_extension": ".py",
   "mimetype": "text/x-python",
   "name": "python",
   "nbconvert_exporter": "python",
   "pygments_lexer": "ipython3",
   "version": "3.6.7"
  }
 },
 "nbformat": 4,
 "nbformat_minor": 2
}
